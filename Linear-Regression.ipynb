{
  "nbformat": 4,
  "nbformat_minor": 0,
  "metadata": {
    "colab": {
      "name": "i18-0613.ipynb",
      "provenance": []
    },
    "language_info": {
      "name": "python"
    },
    "kernelspec": {
      "name": "python3",
      "display_name": "Python 3"
    }
  },
  "cells": [
    {
      "cell_type": "markdown",
      "metadata": {
        "internals": {
          "slide_type": "subslide"
        },
        "id": "vsim7dd8WaHt"
      },
      "source": [
        "# Linear Regression\n"
      ]
    },
    {
      "cell_type": "code",
      "metadata": {
        "internals": {},
        "id": "PY6MF0ReWaH0",
        "colab": {
          "base_uri": "https://localhost:8080/"
        },
        "outputId": "89909aaf-05b3-48fc-8b27-e80d0df13778"
      },
      "source": [
        "%pylab inline\n",
        "plt.style.use('ggplot')\n",
        "plt.rcParams['image.interpolation'] = 'nearest'"
      ],
      "execution_count": 139,
      "outputs": [
        {
          "output_type": "stream",
          "text": [
            "Populating the interactive namespace from numpy and matplotlib\n"
          ],
          "name": "stdout"
        },
        {
          "output_type": "stream",
          "text": [
            "/usr/local/lib/python3.7/dist-packages/IPython/core/magics/pylab.py:161: UserWarning: pylab import has clobbered these variables: ['f', 'minimum']\n",
            "`%matplotlib` prevents importing * from pylab and numpy\n",
            "  \"\\n`%matplotlib` prevents importing * from pylab and numpy\"\n"
          ],
          "name": "stderr"
        }
      ]
    },
    {
      "cell_type": "markdown",
      "metadata": {
        "id": "DmdyWmUMWaH1"
      },
      "source": [
        "$$ f(x) = x^4-4x^3+2 $$"
      ]
    },
    {
      "cell_type": "code",
      "metadata": {
        "id": "5J8KJTgGWaH2"
      },
      "source": [
        "f=lambda x: x**4-4*x**3+2"
      ],
      "execution_count": 140,
      "outputs": []
    },
    {
      "cell_type": "code",
      "metadata": {
        "internals": {
          "slide_helper": "subslide_end",
          "slide_type": "subslide"
        },
        "slide_helper": "slide_end",
        "id": "1z3SM4qfWaH2",
        "colab": {
          "base_uri": "https://localhost:8080/",
          "height": 282
        },
        "outputId": "77b3043e-10ca-437b-983f-ca18b7e4ec0e"
      },
      "source": [
        "x=np.linspace(-5,5,1000)\n",
        "y= f(x)\n",
        "plt.plot(x,y)"
      ],
      "execution_count": 141,
      "outputs": [
        {
          "output_type": "execute_result",
          "data": {
            "text/plain": [
              "[<matplotlib.lines.Line2D at 0x7f97b9fd60d0>]"
            ]
          },
          "metadata": {
            "tags": []
          },
          "execution_count": 141
        },
        {
          "output_type": "display_data",
          "data": {
            "image/png": "[encoded data removed]",
            "text/plain": [
              "<Figure size 432x288 with 1 Axes>"
            ]
          },
          "metadata": {
            "tags": []
          }
        }
      ]
    },
    {
      "cell_type": "markdown",
      "metadata": {
        "internals": {
          "slide_type": "subslide"
        },
        "id": "1vLxS_DtWaH2"
      },
      "source": [
        "### Brute-force Search\n",
        "Lets do a brute-force search for the given variable in the limit."
      ]
    },
    {
      "cell_type": "code",
      "metadata": {
        "internals": {
          "frag_number": 5,
          "slide_helper": "subslide_end"
        },
        "slide_helper": "slide_end",
        "id": "FdCamywYWaH3",
        "colab": {
          "base_uri": "https://localhost:8080/"
        },
        "outputId": "ec41e7cd-c2fd-4cf4-c474-ae1df95ef16e"
      },
      "source": [
        "minimum=+inf\n",
        "mx=+inf\n",
        "import numpy as np\n",
        "\n",
        "\n",
        "for i in np.linspace(-5,5,1000):\n",
        "    if f(i)<minimum:\n",
        "        minimum=f(i)\n",
        "        mx=i\n",
        "\n",
        "\n",
        "print(\"Local minimum occurs at {}\".format(mx))"
      ],
      "execution_count": 142,
      "outputs": [
        {
          "output_type": "stream",
          "text": [
            "Local minimum occurs at 2.997997997997998\n"
          ],
          "name": "stdout"
        }
      ]
    },
    {
      "cell_type": "markdown",
      "metadata": {
        "internals": {
          "frag_helper": "fragment_end",
          "frag_number": 5,
          "slide_type": "subslide"
        },
        "id": "0qm69aFMWaH3"
      },
      "source": [
        "###Gradient Descent"
      ]
    },
    {
      "cell_type": "code",
      "metadata": {
        "id": "PmziEZk2WaH4"
      },
      "source": [
        "def f_derivative(x):\n",
        "  \n",
        "    # Calculate the derivative and write your code here\n",
        "    first=(4*pow(x,3))\n",
        "    derivative=first+12*pow(x,2)\n",
        "    return derivative"
      ],
      "execution_count": 143,
      "outputs": []
    },
    {
      "cell_type": "code",
      "metadata": {
        "internals": {
          "frag_helper": "fragment_end",
          "frag_number": 7,
          "slide_helper": "subslide_end"
        },
        "slide_helper": "slide_end",
        "id": "j6kaI3ulWaH4",
        "colab": {
          "base_uri": "https://localhost:8080/"
        },
        "outputId": "4cfb8835-4049-4ec0-ad60-a9d2ed0ffdbd"
      },
      "source": [
        "x_old = 0\n",
        "x_new = np.random.rand(1,1) \n",
        "eps = 0.01 # step size\n",
        "precision = 0.00001\n",
        "\n",
        "for i in np.linspace(-5,5):\n",
        "    x_old=x_new\n",
        "    x_new=x_old-f_derivative(x_old)*eps\n",
        "    \n",
        "\n",
        "print (\"Local minimum occurs at\", x_new)"
      ],
      "execution_count": 144,
      "outputs": [
        {
          "output_type": "stream",
          "text": [
            "Local minimum occurs at [[0.11827868]]\n"
          ],
          "name": "stdout"
        }
      ]
    },
    {
      "cell_type": "markdown",
      "metadata": {
        "internals": {
          "frag_helper": "fragment_end",
          "frag_number": 7,
          "slide_helper": "subslide_end",
          "slide_type": "subslide"
        },
        "slide_helper": "slide_end",
        "id": "-jyLSMZiWaH4"
      },
      "source": [
        "#### Always Check your gradient, before debugging gradient descent,\n",
        "\n",
        "We know that $$\\frac{\\partial f}{\\partial x}=\\frac{f(x+\\epsilon)-f(x)}{\\epsilon}$$\n",
        "\n",
        "So always compare the difference between computed gradient using this formula.\n"
      ]
    },
    {
      "cell_type": "markdown",
      "metadata": {
        "internals": {
          "frag_helper": "fragment_end",
          "frag_number": 7,
          "slide_type": "subslide"
        },
        "id": "I1VQdaKcWaH5"
      },
      "source": [
        "####Lets Check"
      ]
    },
    {
      "cell_type": "code",
      "metadata": {
        "internals": {
          "frag_helper": "fragment_end",
          "frag_number": 10
        },
        "id": "jwwX_EkZWaH5",
        "colab": {
          "base_uri": "https://localhost:8080/"
        },
        "outputId": "9b4e424f-e890-4445-f2c8-dd3881919f06"
      },
      "source": [
        "eps=0.00001\n",
        "x=1.5\n",
        "dfx=(f(x+eps)-f(x))/eps\n",
        "cdfx=f_derivative(x)\n",
        "\n",
        "print (dfx, cdfx, dfx-cdfx)"
      ],
      "execution_count": 145,
      "outputs": [
        {
          "output_type": "stream",
          "text": [
            "-13.500044999936732 40.5 -54.00004499993673\n"
          ],
          "name": "stdout"
        }
      ]
    },
    {
      "cell_type": "markdown",
      "metadata": {
        "id": "xqTGEVuJWaH5"
      },
      "source": [
        "###Let's generate some random data"
      ]
    },
    {
      "cell_type": "code",
      "metadata": {
        "id": "JO0RF0iXWaH5"
      },
      "source": [
        "X = np.arange(0,5,0.1, dtype=np.float32)\n",
        "delta = np.random.uniform(-1,1, size=X.shape[0])\n",
        "Y = .4 * X + 3 + delta\n",
        "\n",
        "#making a copy for later use\n",
        "rx = X\n",
        "ry = Y"
      ],
      "execution_count": 146,
      "outputs": []
    },
    {
      "cell_type": "code",
      "metadata": {
        "internals": {
          "frag_helper": "fragment_end",
          "frag_number": 16,
          "slide_helper": "subslide_end"
        },
        "slide_helper": "slide_end",
        "id": "F8T5qm9GWaH6",
        "colab": {
          "base_uri": "https://localhost:8080/",
          "height": 300
        },
        "outputId": "89bd02ff-a17f-415e-8b3a-a31575e8b18c"
      },
      "source": [
        "plt.scatter(X,Y)\n",
        "plt.xlabel('X')\n",
        "plt.ylabel('Y')"
      ],
      "execution_count": 147,
      "outputs": [
        {
          "output_type": "execute_result",
          "data": {
            "text/plain": [
              "Text(0, 0.5, 'Y')"
            ]
          },
          "metadata": {
            "tags": []
          },
          "execution_count": 147
        },
        {
          "output_type": "display_data",
          "data": {
            "image/png": "[encoded data removed]",
            "text/plain": [
              "<Figure size 432x288 with 1 Axes>"
            ]
          },
          "metadata": {
            "tags": []
          }
        }
      ]
    },
    {
      "cell_type": "markdown",
      "metadata": {
        "id": "3usQEgjnWaH6"
      },
      "source": [
        "###Time for our regression implementation"
      ]
    },
    {
      "cell_type": "markdown",
      "metadata": {
        "id": "dtqq_3_TWaH6"
      },
      "source": [
        "$$\n",
        "h(X, \\theta) = X^T . \\theta\n",
        "$$"
      ]
    },
    {
      "cell_type": "code",
      "metadata": {
        "id": "tEEBCmYIWaH7"
      },
      "source": [
        "def hyp(theta, X):\n",
        "  return np.dot(X,theta)\n",
        "    "
      ],
      "execution_count": 148,
      "outputs": []
    },
    {
      "cell_type": "markdown",
      "metadata": {
        "id": "BKIztdDbWaH7"
      },
      "source": [
        "$$\n",
        "cost = \\frac{1}{2m} \\sum_{i = 0}^m{(h(X^i, \\theta)-Y^i)}^2\n",
        "$$"
      ]
    },
    {
      "cell_type": "code",
      "metadata": {
        "internals": {
          "frag_helper": "fragment_end",
          "frag_number": 21
        },
        "id": "gkncyYctWaH7"
      },
      "source": [
        "def cost_function(theta,X,Y):\n",
        "  # Mean squared error, do transpose here\n",
        "  m = int(X.shape[0])\n",
        "  cost = 0\n",
        "  sum = 0\n",
        "  \n",
        "  for i in range(0,m):\n",
        "    sum += pow(hyp(theta,X[i])-Y[i],2)\n",
        "    \n",
        "  cost = sum*(1/(2*m))   \n",
        "  return cost"
      ],
      "execution_count": 149,
      "outputs": []
    },
    {
      "cell_type": "markdown",
      "metadata": {
        "id": "WVlbib0RWaH7"
      },
      "source": [
        "$$\n",
        "\\frac{\\delta}{\\delta \\theta_j} = \\frac{1}{m} \\sum_{i = 0}^m{(h(X^i, \\theta)-Y^i)} * X_j\n",
        "$$"
      ]
    },
    {
      "cell_type": "code",
      "metadata": {
        "internals": {
          "frag_helper": "fragment_end",
          "frag_number": 21
        },
        "id": "V1VBeaHnWaH8"
      },
      "source": [
        "def derivative_cost_function(theta,X,Y):\n",
        "  m = X.shape[0]\n",
        "  sum = 0\n",
        "  for i in range(0,m):\n",
        "    sum += np.dot((hyp(theta,X[i])-Y[i]),X[i])\n",
        "\n",
        "  cost = sum*(1/m) \n",
        "  return cost\n"
      ],
      "execution_count": 150,
      "outputs": []
    },
    {
      "cell_type": "markdown",
      "metadata": {
        "id": "SI1X6TQ9WaH8"
      },
      "source": [
        "*** Give Temporary values to cost function and derivative cost function before getting onto gradiant descent***\n",
        "\n",
        "*** To make sure that your both function are working fine ***"
      ]
    },
    {
      "cell_type": "code",
      "metadata": {
        "internals": {
          "frag_helper": "fragment_end",
          "frag_number": 21
        },
        "id": "fwOSixrPWaH8",
        "colab": {
          "base_uri": "https://localhost:8080/"
        },
        "outputId": "6de69fb8-4e5d-4555-c3c8-1485552f8b22"
      },
      "source": [
        "print (X.shape)\n",
        "nx=np.hstack((X,ones(len(X),)))\n",
        "nx=nx.reshape((2,X.shape[0])).T\n",
        "print (nx.shape)"
      ],
      "execution_count": 151,
      "outputs": [
        {
          "output_type": "stream",
          "text": [
            "(50,)\n",
            "(50, 2)\n"
          ],
          "name": "stdout"
        }
      ]
    },
    {
      "cell_type": "code",
      "metadata": {
        "internals": {
          "frag_helper": "fragment_end",
          "frag_number": 21
        },
        "id": "Zeo1vDiyWaH8",
        "colab": {
          "base_uri": "https://localhost:8080/"
        },
        "outputId": "6995ae1b-cd47-4fed-b722-cf159003fe81"
      },
      "source": [
        "np.random.seed(20) # To make sure you have the same value as me\n",
        "eps=0.0001\n",
        "nexamples=float(nx.shape[0])\n",
        "thetas=np.random.rand(nx.shape[1],)\n",
        "print (thetas)"
      ],
      "execution_count": 152,
      "outputs": [
        {
          "output_type": "stream",
          "text": [
            "[0.5881308  0.89771373]\n"
          ],
          "name": "stdout"
        }
      ]
    },
    {
      "cell_type": "code",
      "metadata": {
        "internals": {
          "frag_helper": "fragment_end",
          "frag_number": 21
        },
        "id": "tASO7xRPWaH9",
        "colab": {
          "base_uri": "https://localhost:8080/"
        },
        "outputId": "383a1d5f-8900-4e70-84b4-61a4e5693c2c"
      },
      "source": [
        "cf=cost_function(thetas,nx,Y)\n",
        "print (cf)"
      ],
      "execution_count": 153,
      "outputs": [
        {
          "output_type": "stream",
          "text": [
            "1.5341374520563766\n"
          ],
          "name": "stdout"
        }
      ]
    },
    {
      "cell_type": "code",
      "metadata": {
        "internals": {
          "frag_helper": "fragment_end",
          "frag_number": 21
        },
        "id": "wAzNVfeBWaH9",
        "colab": {
          "base_uri": "https://localhost:8080/"
        },
        "outputId": "d9c9b32c-f1d5-424f-e2b4-44a56672e435"
      },
      "source": [
        "ad=derivative_cost_function(thetas,nx,Y)\n",
        "print (ad)"
      ],
      "execution_count": 154,
      "outputs": [
        {
          "output_type": "stream",
          "text": [
            "[-3.79788165 -1.67825806]\n"
          ],
          "name": "stdout"
        }
      ]
    },
    {
      "cell_type": "code",
      "metadata": {
        "internals": {
          "frag_helper": "fragment_end",
          "frag_number": 21
        },
        "scrolled": true,
        "id": "70t07wDhWaH9"
      },
      "source": [
        "#Gradient Descent...\n",
        "def GradientDescent(X,Y,maxniter=20000):\n",
        "    nexamples=float(X.shape[0])\n",
        "    thetas=rand(X.shape[1],)\n",
        " \n",
        "    alpha=0.01\n",
        "    numiter=400\n",
        "    theta=0\n",
        "    # Your code here\n",
        "    xTrans = X.transpose()\n",
        "    for i in range(0, numiter):\n",
        "\n",
        "      cost = cost_function(thetas, X ,Y)\n",
        "      print(\"Iteration: \", i, \" Cost: \", cost)\n",
        "      gradient = derivative_cost_function(thetas, X , Y)\n",
        "\n",
        "      thetas = thetas - alpha * gradient\n",
        "    return thetas"
      ],
      "execution_count": 155,
      "outputs": []
    },
    {
      "cell_type": "code",
      "metadata": {
        "id": "9NOZcRAaWaH-",
        "colab": {
          "base_uri": "https://localhost:8080/"
        },
        "outputId": "820f3864-f9ab-4012-e500-8be300bdc511"
      },
      "source": [
        "theta_new=GradientDescent(nx,Y)"
      ],
      "execution_count": 156,
      "outputs": [
        {
          "output_type": "stream",
          "text": [
            "Iteration:  0  Cost:  0.8338789777766223\n",
            "Iteration:  1  Cost:  0.8010569418350183\n",
            "Iteration:  2  Cost:  0.7733596119375663\n",
            "Iteration:  3  Cost:  0.7499220926558605\n",
            "Iteration:  4  Cost:  0.7300257864990286\n",
            "Iteration:  5  Cost:  0.7130736459157933\n",
            "Iteration:  6  Cost:  0.6985696117155646\n",
            "Iteration:  7  Cost:  0.6861015297258253\n",
            "Iteration:  8  Cost:  0.6753269573006198\n",
            "Iteration:  9  Cost:  0.6659613708273341\n",
            "Iteration:  10  Cost:  0.6577683680742635\n",
            "Iteration:  11  Cost:  0.6505515279278279\n",
            "Iteration:  12  Cost:  0.6441476471521891\n",
            "Iteration:  13  Cost:  0.6384211212315175\n",
            "Iteration:  14  Cost:  0.6332592757596441\n",
            "Iteration:  15  Cost:  0.6285684875806891\n",
            "Iteration:  16  Cost:  0.6242709620848442\n",
            "Iteration:  17  Cost:  0.6203020556628467\n",
            "Iteration:  18  Cost:  0.6166080510990383\n",
            "Iteration:  19  Cost:  0.6131443092830453\n",
            "Iteration:  20  Cost:  0.6098737335812952\n",
            "Iteration:  21  Cost:  0.6067654939782238\n",
            "Iteration:  22  Cost:  0.6037939670440353\n",
            "Iteration:  23  Cost:  0.6009378552193719\n",
            "Iteration:  24  Cost:  0.5981794550833055\n",
            "Iteration:  25  Cost:  0.5955040494023384\n",
            "Iteration:  26  Cost:  0.5928994020213859\n",
            "Iteration:  27  Cost:  0.5903553381997854\n",
            "Iteration:  28  Cost:  0.5878633959382934\n",
            "Iteration:  29  Cost:  0.5854165362880922\n",
            "Iteration:  30  Cost:  0.5830089026643033\n",
            "Iteration:  31  Cost:  0.5806356208743041\n",
            "Iteration:  32  Cost:  0.5782926329734585\n",
            "Iteration:  33  Cost:  0.5759765592259497\n",
            "Iteration:  34  Cost:  0.5736845834164029\n",
            "Iteration:  35  Cost:  0.5714143575622329\n",
            "Iteration:  36  Cost:  0.5691639227448569\n",
            "Iteration:  37  Cost:  0.566931643333067\n",
            "Iteration:  38  Cost:  0.5647161523331315\n",
            "Iteration:  39  Cost:  0.5625163059833946\n",
            "Iteration:  40  Cost:  0.5603311460295674\n",
            "Iteration:  41  Cost:  0.5581598683814227\n",
            "Iteration:  42  Cost:  0.5560017970714134\n",
            "Iteration:  43  Cost:  0.5538563626183205\n",
            "Iteration:  44  Cost:  0.5517230840507764\n",
            "Iteration:  45  Cost:  0.5496015539715506\n",
            "Iteration:  46  Cost:  0.5474914261482152\n",
            "Iteration:  47  Cost:  0.545392405202827\n",
            "Iteration:  48  Cost:  0.5433042380455494\n",
            "Iteration:  49  Cost:  0.5412267067572122\n",
            "Iteration:  50  Cost:  0.5391596226756981\n",
            "Iteration:  51  Cost:  0.5371028214825218\n",
            "Iteration:  52  Cost:  0.5350561591204015\n",
            "Iteration:  53  Cost:  0.5330195084012588\n",
            "Iteration:  54  Cost:  0.5309927561878448\n",
            "Iteration:  55  Cost:  0.528975801051966\n",
            "Iteration:  56  Cost:  0.5269685513286804\n",
            "Iteration:  57  Cost:  0.5249709234994916\n",
            "Iteration:  58  Cost:  0.5229828408488726\n",
            "Iteration:  59  Cost:  0.5210042323478999\n",
            "Iteration:  60  Cost:  0.5190350317265687\n",
            "Iteration:  61  Cost:  0.5170751767028766\n",
            "Iteration:  62  Cost:  0.5151246083421552\n",
            "Iteration:  63  Cost:  0.5131832705246239\n",
            "Iteration:  64  Cost:  0.5112511095028454\n",
            "Iteration:  65  Cost:  0.5093280735338952\n",
            "Iteration:  66  Cost:  0.5074141125735891\n",
            "Iteration:  67  Cost:  0.5055091780222812\n",
            "Iteration:  68  Cost:  0.50361322251351\n",
            "Iteration:  69  Cost:  0.5017261997382382\n",
            "Iteration:  70  Cost:  0.49984806429867235\n",
            "Iteration:  71  Cost:  0.4979787715866579\n",
            "Iteration:  72  Cost:  0.4961182776824895\n",
            "Iteration:  73  Cost:  0.49426653927068787\n",
            "Iteration:  74  Cost:  0.4924235135698745\n",
            "Iteration:  75  Cost:  0.4905891582743527\n",
            "Iteration:  76  Cost:  0.48876343150542734\n",
            "Iteration:  77  Cost:  0.4869462917708048\n",
            "Iteration:  78  Cost:  0.48513769793071626\n",
            "Iteration:  79  Cost:  0.48333760916961865\n",
            "Iteration:  80  Cost:  0.4815459849725414\n",
            "Iteration:  81  Cost:  0.47976278510528275\n",
            "Iteration:  82  Cost:  0.4779879695978132\n",
            "Iteration:  83  Cost:  0.4762214987303405\n",
            "Iteration:  84  Cost:  0.4744633330215848\n",
            "Iteration:  85  Cost:  0.472713433218899\n",
            "Iteration:  86  Cost:  0.47097176028991095\n",
            "Iteration:  87  Cost:  0.46923827541544066\n",
            "Iteration:  88  Cost:  0.4675129399834734\n",
            "Iteration:  89  Cost:  0.46579571558400934\n",
            "Iteration:  90  Cost:  0.464086564004647\n",
            "Iteration:  91  Cost:  0.46238544722676866\n",
            "Iteration:  92  Cost:  0.4606923274222398\n",
            "Iteration:  93  Cost:  0.45900716695052024\n",
            "Iteration:  94  Cost:  0.4573299283561304\n",
            "Iteration:  95  Cost:  0.4556605743664093\n",
            "Iteration:  96  Cost:  0.45399906788951166\n",
            "Iteration:  97  Cost:  0.45234537201261327\n",
            "Iteration:  98  Cost:  0.4506994500002781\n",
            "Iteration:  99  Cost:  0.44906126529297274\n",
            "Iteration:  100  Cost:  0.4474307815056951\n",
            "Iteration:  101  Cost:  0.44580796242670206\n",
            "Iteration:  102  Cost:  0.4441927720163186\n",
            "Iteration:  103  Cost:  0.4425851744058197\n",
            "Iteration:  104  Cost:  0.44098513389636507\n",
            "Iteration:  105  Cost:  0.4393926149579872\n",
            "Iteration:  106  Cost:  0.4378075822286176\n",
            "Iteration:  107  Cost:  0.43623000051314825\n",
            "Iteration:  108  Cost:  0.4346598347825256\n",
            "Iteration:  109  Cost:  0.4330970501728658\n",
            "Iteration:  110  Cost:  0.4315416119845933\n",
            "Iteration:  111  Cost:  0.4299934856815969\n",
            "Iteration:  112  Cost:  0.42845263689040447\n",
            "Iteration:  113  Cost:  0.4269190313993674\n",
            "Iteration:  114  Cost:  0.42539263515786063\n",
            "Iteration:  115  Cost:  0.42387341427549163\n",
            "Iteration:  116  Cost:  0.422361335021319\n",
            "Iteration:  117  Cost:  0.4208563638230796\n",
            "Iteration:  118  Cost:  0.41935846726642406\n",
            "Iteration:  119  Cost:  0.41786761209415624\n",
            "Iteration:  120  Cost:  0.41638376520548437\n",
            "Iteration:  121  Cost:  0.41490689365527156\n",
            "Iteration:  122  Cost:  0.41343696465329716\n",
            "Iteration:  123  Cost:  0.411973945563519\n",
            "Iteration:  124  Cost:  0.4105178039033445\n",
            "Iteration:  125  Cost:  0.4090685073429016\n",
            "Iteration:  126  Cost:  0.40762602370431816\n",
            "Iteration:  127  Cost:  0.40619032096100266\n",
            "Iteration:  128  Cost:  0.4047613672369315\n",
            "Iteration:  129  Cost:  0.40333913080593725\n",
            "Iteration:  130  Cost:  0.40192358009100226\n",
            "Iteration:  131  Cost:  0.40051468366355686\n",
            "Iteration:  132  Cost:  0.39911241024277894\n",
            "Iteration:  133  Cost:  0.3977167286948987\n",
            "Iteration:  134  Cost:  0.3963276080325061\n",
            "Iteration:  135  Cost:  0.39494501741386323\n",
            "Iteration:  136  Cost:  0.39356892614221645\n",
            "Iteration:  137  Cost:  0.39219930366511646\n",
            "Iteration:  138  Cost:  0.390836119573739\n",
            "Iteration:  139  Cost:  0.3894793436022079\n",
            "Iteration:  140  Cost:  0.38812894562692524\n",
            "Iteration:  141  Cost:  0.38678489566589963\n",
            "Iteration:  142  Cost:  0.38544716387808214\n",
            "Iteration:  143  Cost:  0.3841157205627028\n",
            "Iteration:  144  Cost:  0.38279053615861175\n",
            "Iteration:  145  Cost:  0.381471581243621\n",
            "Iteration:  146  Cost:  0.38015882653385347\n",
            "Iteration:  147  Cost:  0.378852242883091\n",
            "Iteration:  148  Cost:  0.37755180128212734\n",
            "Iteration:  149  Cost:  0.376257472858126\n",
            "Iteration:  150  Cost:  0.37496922887397505\n",
            "Iteration:  151  Cost:  0.37368704072765374\n",
            "Iteration:  152  Cost:  0.37241087995159383\n",
            "Iteration:  153  Cost:  0.37114071821204975\n",
            "Iteration:  154  Cost:  0.36987652730846776\n",
            "Iteration:  155  Cost:  0.36861827917286194\n",
            "Iteration:  156  Cost:  0.3673659458691887\n",
            "Iteration:  157  Cost:  0.3661194995927279\n",
            "Iteration:  158  Cost:  0.36487891266946554\n",
            "Iteration:  159  Cost:  0.3636441575554783\n",
            "Iteration:  160  Cost:  0.36241520683632333\n",
            "Iteration:  161  Cost:  0.36119203322642857\n",
            "Iteration:  162  Cost:  0.3599746095684874\n",
            "Iteration:  163  Cost:  0.35876290883285533\n",
            "Iteration:  164  Cost:  0.3575569041169505\n",
            "Iteration:  165  Cost:  0.35635656864465576\n",
            "Iteration:  166  Cost:  0.35516187576572417\n",
            "Iteration:  167  Cost:  0.3539727989551881\n",
            "Iteration:  168  Cost:  0.352789311812769\n",
            "Iteration:  169  Cost:  0.35161138806229303\n",
            "Iteration:  170  Cost:  0.3504390015511057\n",
            "Iteration:  171  Cost:  0.34927212624949244\n",
            "Iteration:  172  Cost:  0.34811073625010047\n",
            "Iteration:  173  Cost:  0.3469548057673632\n",
            "Iteration:  174  Cost:  0.3458043091369289\n",
            "Iteration:  175  Cost:  0.3446592208150894\n",
            "Iteration:  176  Cost:  0.34351951537821285\n",
            "Iteration:  177  Cost:  0.34238516752218157\n",
            "Iteration:  178  Cost:  0.34125615206182763\n",
            "Iteration:  179  Cost:  0.34013244393037484\n",
            "Iteration:  180  Cost:  0.3390140181788825\n",
            "Iteration:  181  Cost:  0.33790084997569053\n",
            "Iteration:  182  Cost:  0.33679291460586946\n",
            "Iteration:  183  Cost:  0.3356901874706699\n",
            "Iteration:  184  Cost:  0.334592644086978\n",
            "Iteration:  185  Cost:  0.33350026008677136\n",
            "Iteration:  186  Cost:  0.33241301121657757\n",
            "Iteration:  187  Cost:  0.3313308733369367\n",
            "Iteration:  188  Cost:  0.33025382242186396\n",
            "Iteration:  189  Cost:  0.3291818345583173\n",
            "Iteration:  190  Cost:  0.3281148859456666\n",
            "Iteration:  191  Cost:  0.32705295289516456\n",
            "Iteration:  192  Cost:  0.32599601182942095\n",
            "Iteration:  193  Cost:  0.3249440392818793\n",
            "Iteration:  194  Cost:  0.32389701189629605\n",
            "Iteration:  195  Cost:  0.32285490642622156\n",
            "Iteration:  196  Cost:  0.32181769973448426\n",
            "Iteration:  197  Cost:  0.32078536879267683\n",
            "Iteration:  198  Cost:  0.3197578906806448\n",
            "Iteration:  199  Cost:  0.31873524258597846\n",
            "Iteration:  200  Cost:  0.3177174018035051\n",
            "Iteration:  201  Cost:  0.3167043457347858\n",
            "Iteration:  202  Cost:  0.31569605188761357\n",
            "Iteration:  203  Cost:  0.31469249787551345\n",
            "Iteration:  204  Cost:  0.3136936614172463\n",
            "Iteration:  205  Cost:  0.31269952033631343\n",
            "Iteration:  206  Cost:  0.3117100525604645\n",
            "Iteration:  207  Cost:  0.31072523612120756\n",
            "Iteration:  208  Cost:  0.3097450491533211\n",
            "Iteration:  209  Cost:  0.30876946989436865\n",
            "Iteration:  210  Cost:  0.3077984766842156\n",
            "Iteration:  211  Cost:  0.3068320479645486\n",
            "Iteration:  212  Cost:  0.3058701622783962\n",
            "Iteration:  213  Cost:  0.30491279826965284\n",
            "Iteration:  214  Cost:  0.3039599346826054\n",
            "Iteration:  215  Cost:  0.30301155036146027\n",
            "Iteration:  216  Cost:  0.30206762424987343\n",
            "Iteration:  217  Cost:  0.3011281353904844\n",
            "Iteration:  218  Cost:  0.3001930629244497\n",
            "Iteration:  219  Cost:  0.2992623860909796\n",
            "Iteration:  220  Cost:  0.2983360842268785\n",
            "Iteration:  221  Cost:  0.2974141367660849\n",
            "Iteration:  222  Cost:  0.29649652323921494\n",
            "Iteration:  223  Cost:  0.2955832232731086\n",
            "Iteration:  224  Cost:  0.29467421659037707\n",
            "Iteration:  225  Cost:  0.293769483008952\n",
            "Iteration:  226  Cost:  0.2928690024416381\n",
            "Iteration:  227  Cost:  0.291972754895667\n",
            "Iteration:  228  Cost:  0.2910807204722528\n",
            "Iteration:  229  Cost:  0.29019287936615173\n",
            "Iteration:  230  Cost:  0.2893092118652203\n",
            "Iteration:  231  Cost:  0.28842969834997934\n",
            "Iteration:  232  Cost:  0.28755431929317843\n",
            "Iteration:  233  Cost:  0.28668305525936055\n",
            "Iteration:  234  Cost:  0.2858158869044325\n",
            "Iteration:  235  Cost:  0.2849527949752347\n",
            "Iteration:  236  Cost:  0.2840937603091134\n",
            "Iteration:  237  Cost:  0.283238763833496\n",
            "Iteration:  238  Cost:  0.2823877865654671\n",
            "Iteration:  239  Cost:  0.2815408096113464\n",
            "Iteration:  240  Cost:  0.28069781416627093\n",
            "Iteration:  241  Cost:  0.2798587815137755\n",
            "Iteration:  242  Cost:  0.27902369302537905\n",
            "Iteration:  243  Cost:  0.2781925301601693\n",
            "Iteration:  244  Cost:  0.27736527446439274\n",
            "Iteration:  245  Cost:  0.2765419075710439\n",
            "Iteration:  246  Cost:  0.2757224111994574\n",
            "Iteration:  247  Cost:  0.27490676715490275\n",
            "Iteration:  248  Cost:  0.2740949573281802\n",
            "Iteration:  249  Cost:  0.2732869636952186\n",
            "Iteration:  250  Cost:  0.272482768316675\n",
            "Iteration:  251  Cost:  0.2716823533375366\n",
            "Iteration:  252  Cost:  0.2708857009867243\n",
            "Iteration:  253  Cost:  0.27009279357669835\n",
            "Iteration:  254  Cost:  0.26930361350306486\n",
            "Iteration:  255  Cost:  0.2685181432441862\n",
            "Iteration:  256  Cost:  0.26773636536079076\n",
            "Iteration:  257  Cost:  0.2669582624955866\n",
            "Iteration:  258  Cost:  0.26618381737287544\n",
            "Iteration:  259  Cost:  0.26541301279816953\n",
            "Iteration:  260  Cost:  0.26464583165781014\n",
            "Iteration:  261  Cost:  0.26388225691858663\n",
            "Iteration:  262  Cost:  0.26312227162735924\n",
            "Iteration:  263  Cost:  0.2623658589106822\n",
            "Iteration:  264  Cost:  0.2616130019744295\n",
            "Iteration:  265  Cost:  0.2608636841034212\n",
            "Iteration:  266  Cost:  0.26011788866105345\n",
            "Iteration:  267  Cost:  0.25937559908892804\n",
            "Iteration:  268  Cost:  0.25863679890648567\n",
            "Iteration:  269  Cost:  0.25790147171063926\n",
            "Iteration:  270  Cost:  0.25716960117541043\n",
            "Iteration:  271  Cost:  0.2564411710515666\n",
            "Iteration:  272  Cost:  0.2557161651662603\n",
            "Iteration:  273  Cost:  0.25499456742267035\n",
            "Iteration:  274  Cost:  0.2542763617996437\n",
            "Iteration:  275  Cost:  0.25356153235134105\n",
            "Iteration:  276  Cost:  0.25285006320688164\n",
            "Iteration:  277  Cost:  0.25214193856999134\n",
            "Iteration:  278  Cost:  0.25143714271865175\n",
            "Iteration:  279  Cost:  0.25073566000475167\n",
            "Iteration:  280  Cost:  0.2500374748537388\n",
            "Iteration:  281  Cost:  0.24934257176427452\n",
            "Iteration:  282  Cost:  0.24865093530789026\n",
            "Iteration:  283  Cost:  0.2479625501286434\n",
            "Iteration:  284  Cost:  0.24727740094277786\n",
            "Iteration:  285  Cost:  0.2465954725383838\n",
            "Iteration:  286  Cost:  0.24591674977506053\n",
            "Iteration:  287  Cost:  0.24524121758357986\n",
            "Iteration:  288  Cost:  0.24456886096555203\n",
            "Iteration:  289  Cost:  0.243899664993092\n",
            "Iteration:  290  Cost:  0.24323361480848857\n",
            "Iteration:  291  Cost:  0.24257069562387468\n",
            "Iteration:  292  Cost:  0.24191089272089852\n",
            "Iteration:  293  Cost:  0.2412541914503969\n",
            "Iteration:  294  Cost:  0.24060057723207023\n",
            "Iteration:  295  Cost:  0.23995003555415845\n",
            "Iteration:  296  Cost:  0.23930255197311964\n",
            "Iteration:  297  Cost:  0.23865811211330823\n",
            "Iteration:  298  Cost:  0.23801670166665648\n",
            "Iteration:  299  Cost:  0.23737830639235696\n",
            "Iteration:  300  Cost:  0.23674291211654552\n",
            "Iteration:  301  Cost:  0.23611050473198777\n",
            "Iteration:  302  Cost:  0.23548107019776493\n",
            "Iteration:  303  Cost:  0.2348545945389624\n",
            "Iteration:  304  Cost:  0.23423106384635994\n",
            "Iteration:  305  Cost:  0.23361046427612187\n",
            "Iteration:  306  Cost:  0.23299278204949073\n",
            "Iteration:  307  Cost:  0.23237800345248033\n",
            "Iteration:  308  Cost:  0.23176611483557263\n",
            "Iteration:  309  Cost:  0.23115710261341313\n",
            "Iteration:  310  Cost:  0.23055095326451022\n",
            "Iteration:  311  Cost:  0.2299476533309351\n",
            "Iteration:  312  Cost:  0.22934718941802237\n",
            "Iteration:  313  Cost:  0.22874954819407273\n",
            "Iteration:  314  Cost:  0.2281547163900573\n",
            "Iteration:  315  Cost:  0.227562680799323\n",
            "Iteration:  316  Cost:  0.2269734282772993\n",
            "Iteration:  317  Cost:  0.22638694574120563\n",
            "Iteration:  318  Cost:  0.2258032201697625\n",
            "Iteration:  319  Cost:  0.22522223860290078\n",
            "Iteration:  320  Cost:  0.22464398814147507\n",
            "Iteration:  321  Cost:  0.2240684559469762\n",
            "Iteration:  322  Cost:  0.22349562924124772\n",
            "Iteration:  323  Cost:  0.22292549530620093\n",
            "Iteration:  324  Cost:  0.22235804148353286\n",
            "Iteration:  325  Cost:  0.22179325517444531\n",
            "Iteration:  326  Cost:  0.22123112383936522\n",
            "Iteration:  327  Cost:  0.22067163499766615\n",
            "Iteration:  328  Cost:  0.22011477622739115\n",
            "Iteration:  329  Cost:  0.21956053516497664\n",
            "Iteration:  330  Cost:  0.2190088995049788\n",
            "Iteration:  331  Cost:  0.21845985699979967\n",
            "Iteration:  332  Cost:  0.21791339545941502\n",
            "Iteration:  333  Cost:  0.21736950275110464\n",
            "Iteration:  334  Cost:  0.21682816679918188\n",
            "Iteration:  335  Cost:  0.2162893755847261\n",
            "Iteration:  336  Cost:  0.2157531171453161\n",
            "Iteration:  337  Cost:  0.21521937957476397\n",
            "Iteration:  338  Cost:  0.21468815102285108\n",
            "Iteration:  339  Cost:  0.21415941969506455\n",
            "Iteration:  340  Cost:  0.21363317385233604\n",
            "Iteration:  341  Cost:  0.21310940181078075\n",
            "Iteration:  342  Cost:  0.21258809194143768\n",
            "Iteration:  343  Cost:  0.2120692326700123\n",
            "Iteration:  344  Cost:  0.2115528124766186\n",
            "Iteration:  345  Cost:  0.2110388198955243\n",
            "Iteration:  346  Cost:  0.21052724351489527\n",
            "Iteration:  347  Cost:  0.210018071976543\n",
            "Iteration:  348  Cost:  0.20951129397567195\n",
            "Iteration:  349  Cost:  0.2090068982606286\n",
            "Iteration:  350  Cost:  0.20850487363265202\n",
            "Iteration:  351  Cost:  0.20800520894562463\n",
            "Iteration:  352  Cost:  0.2075078931058253\n",
            "Iteration:  353  Cost:  0.2070129150716825\n",
            "Iteration:  354  Cost:  0.20652026385352973\n",
            "Iteration:  355  Cost:  0.20602992851336102\n",
            "Iteration:  356  Cost:  0.20554189816458848\n",
            "Iteration:  357  Cost:  0.2050561619718003\n",
            "Iteration:  358  Cost:  0.20457270915052023\n",
            "Iteration:  359  Cost:  0.20409152896696814\n",
            "Iteration:  360  Cost:  0.20361261073782197\n",
            "Iteration:  361  Cost:  0.2031359438299803\n",
            "Iteration:  362  Cost:  0.20266151766032597\n",
            "Iteration:  363  Cost:  0.2021893216954919\n",
            "Iteration:  364  Cost:  0.2017193454516263\n",
            "Iteration:  365  Cost:  0.20125157849416078\n",
            "Iteration:  366  Cost:  0.2007860104375781\n",
            "Iteration:  367  Cost:  0.20032263094518155\n",
            "Iteration:  368  Cost:  0.19986142972886606\n",
            "Iteration:  369  Cost:  0.1994023965488888\n",
            "Iteration:  370  Cost:  0.19894552121364295\n",
            "Iteration:  371  Cost:  0.19849079357943047\n",
            "Iteration:  372  Cost:  0.19803820355023777\n",
            "Iteration:  373  Cost:  0.19758774107751062\n",
            "Iteration:  374  Cost:  0.19713939615993162\n",
            "Iteration:  375  Cost:  0.19669315884319805\n",
            "Iteration:  376  Cost:  0.19624901921980098\n",
            "Iteration:  377  Cost:  0.195806967428805\n",
            "Iteration:  378  Cost:  0.1953669936556294\n",
            "Iteration:  379  Cost:  0.1949290881318305\n",
            "Iteration:  380  Cost:  0.1944932411348846\n",
            "Iteration:  381  Cost:  0.19405944298797184\n",
            "Iteration:  382  Cost:  0.1936276840597619\n",
            "Iteration:  383  Cost:  0.19319795476419954\n",
            "Iteration:  384  Cost:  0.19277024556029254\n",
            "Iteration:  385  Cost:  0.19234454695189881\n",
            "Iteration:  386  Cost:  0.19192084948751686\n",
            "Iteration:  387  Cost:  0.19149914376007482\n",
            "Iteration:  388  Cost:  0.1910794204067221\n",
            "Iteration:  389  Cost:  0.1906616701086214\n",
            "Iteration:  390  Cost:  0.19024588359074227\n",
            "Iteration:  391  Cost:  0.18983205162165398\n",
            "Iteration:  392  Cost:  0.18942016501332215\n",
            "Iteration:  393  Cost:  0.18901021462090328\n",
            "Iteration:  394  Cost:  0.18860219134254283\n",
            "Iteration:  395  Cost:  0.1881960861191725\n",
            "Iteration:  396  Cost:  0.18779188993430926\n",
            "Iteration:  397  Cost:  0.1873895938138553\n",
            "Iteration:  398  Cost:  0.18698918882589852\n",
            "Iteration:  399  Cost:  0.18659066608051464\n"
          ],
          "name": "stdout"
        }
      ]
    },
    {
      "cell_type": "code",
      "metadata": {
        "id": "dAcBaufWWaH-",
        "colab": {
          "base_uri": "https://localhost:8080/",
          "height": 300
        },
        "outputId": "a007ca5e-f199-471e-ade1-f9f5204f7944"
      },
      "source": [
        "plt.scatter(X,Y)\n",
        "plt.xlabel('X')\n",
        "plt.ylabel('Y')\n",
        "plt.plot(nx[:,0],np.dot(nx,theta_new))"
      ],
      "execution_count": 157,
      "outputs": [
        {
          "output_type": "execute_result",
          "data": {
            "text/plain": [
              "[<matplotlib.lines.Line2D at 0x7f97ba1ef390>]"
            ]
          },
          "metadata": {
            "tags": []
          },
          "execution_count": 157
        },
        {
          "output_type": "display_data",
          "data": {
            "image/png": "[encoded data removed]",
            "text/plain": [
              "<Figure size 432x288 with 1 Axes>"
            ]
          },
          "metadata": {
            "tags": []
          }
        }
      ]
    },
    {
      "cell_type": "code",
      "metadata": {
        "id": "V1LFIi_yWaH-"
      },
      "source": [
        ""
      ],
      "execution_count": 157,
      "outputs": []
    }
  ]
}